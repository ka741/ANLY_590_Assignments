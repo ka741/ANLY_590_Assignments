{
  "nbformat": 4,
  "nbformat_minor": 0,
  "metadata": {
    "colab": {
      "name": "Assignment_1_590.ipynb",
      "provenance": []
    },
    "kernelspec": {
      "name": "python3",
      "display_name": "Python 3"
    }
  },
  "cells": [
    {
      "cell_type": "code",
      "metadata": {
        "id": "St3XqdCrnBwi",
        "colab_type": "code",
        "colab": {}
      },
      "source": [
        "import numpy as np\n",
        "import pandas as pd\n",
        "from sklearn.linear_model import LassoCV, Lasso, RidgeCV, Ridge\n",
        "import matplotlib.pyplot as plt"
      ],
      "execution_count": 1,
      "outputs": []
    },
    {
      "cell_type": "code",
      "metadata": {
        "id": "TA9uCnvwnF9G",
        "colab_type": "code",
        "colab": {
          "base_uri": "https://localhost:8080/",
          "height": 204
        },
        "outputId": "2a63fd79-f3ac-4fda-c8fd-22fb425e78e9"
      },
      "source": [
        "# Import the csv file\n",
        "giturl = 'https://gist.githubusercontent.com/keeganhines/59974f1ebef97bbaa44fb19143f90bad/raw/d9bcf657f97201394a59fffd801c44347eb7e28d/Hitters.csv'\n",
        "hitters = pd.read_csv(giturl)\n",
        "hitters.head()"
      ],
      "execution_count": 2,
      "outputs": [
        {
          "output_type": "execute_result",
          "data": {
            "text/html": [
              "<div>\n",
              "<style scoped>\n",
              "    .dataframe tbody tr th:only-of-type {\n",
              "        vertical-align: middle;\n",
              "    }\n",
              "\n",
              "    .dataframe tbody tr th {\n",
              "        vertical-align: top;\n",
              "    }\n",
              "\n",
              "    .dataframe thead th {\n",
              "        text-align: right;\n",
              "    }\n",
              "</style>\n",
              "<table border=\"1\" class=\"dataframe\">\n",
              "  <thead>\n",
              "    <tr style=\"text-align: right;\">\n",
              "      <th></th>\n",
              "      <th>Unnamed: 0</th>\n",
              "      <th>AtBat</th>\n",
              "      <th>Hits</th>\n",
              "      <th>HmRun</th>\n",
              "      <th>Runs</th>\n",
              "      <th>RBI</th>\n",
              "      <th>Walks</th>\n",
              "      <th>Years</th>\n",
              "      <th>CAtBat</th>\n",
              "      <th>CHits</th>\n",
              "      <th>CHmRun</th>\n",
              "      <th>CRuns</th>\n",
              "      <th>CRBI</th>\n",
              "      <th>CWalks</th>\n",
              "      <th>League</th>\n",
              "      <th>Division</th>\n",
              "      <th>PutOuts</th>\n",
              "      <th>Assists</th>\n",
              "      <th>Errors</th>\n",
              "      <th>Salary</th>\n",
              "      <th>NewLeague</th>\n",
              "    </tr>\n",
              "  </thead>\n",
              "  <tbody>\n",
              "    <tr>\n",
              "      <th>0</th>\n",
              "      <td>-Andy Allanson</td>\n",
              "      <td>293</td>\n",
              "      <td>66</td>\n",
              "      <td>1</td>\n",
              "      <td>30</td>\n",
              "      <td>29</td>\n",
              "      <td>14</td>\n",
              "      <td>1</td>\n",
              "      <td>293</td>\n",
              "      <td>66</td>\n",
              "      <td>1</td>\n",
              "      <td>30</td>\n",
              "      <td>29</td>\n",
              "      <td>14</td>\n",
              "      <td>A</td>\n",
              "      <td>E</td>\n",
              "      <td>446</td>\n",
              "      <td>33</td>\n",
              "      <td>20</td>\n",
              "      <td>NaN</td>\n",
              "      <td>A</td>\n",
              "    </tr>\n",
              "    <tr>\n",
              "      <th>1</th>\n",
              "      <td>-Alan Ashby</td>\n",
              "      <td>315</td>\n",
              "      <td>81</td>\n",
              "      <td>7</td>\n",
              "      <td>24</td>\n",
              "      <td>38</td>\n",
              "      <td>39</td>\n",
              "      <td>14</td>\n",
              "      <td>3449</td>\n",
              "      <td>835</td>\n",
              "      <td>69</td>\n",
              "      <td>321</td>\n",
              "      <td>414</td>\n",
              "      <td>375</td>\n",
              "      <td>N</td>\n",
              "      <td>W</td>\n",
              "      <td>632</td>\n",
              "      <td>43</td>\n",
              "      <td>10</td>\n",
              "      <td>475.0</td>\n",
              "      <td>N</td>\n",
              "    </tr>\n",
              "    <tr>\n",
              "      <th>2</th>\n",
              "      <td>-Alvin Davis</td>\n",
              "      <td>479</td>\n",
              "      <td>130</td>\n",
              "      <td>18</td>\n",
              "      <td>66</td>\n",
              "      <td>72</td>\n",
              "      <td>76</td>\n",
              "      <td>3</td>\n",
              "      <td>1624</td>\n",
              "      <td>457</td>\n",
              "      <td>63</td>\n",
              "      <td>224</td>\n",
              "      <td>266</td>\n",
              "      <td>263</td>\n",
              "      <td>A</td>\n",
              "      <td>W</td>\n",
              "      <td>880</td>\n",
              "      <td>82</td>\n",
              "      <td>14</td>\n",
              "      <td>480.0</td>\n",
              "      <td>A</td>\n",
              "    </tr>\n",
              "    <tr>\n",
              "      <th>3</th>\n",
              "      <td>-Andre Dawson</td>\n",
              "      <td>496</td>\n",
              "      <td>141</td>\n",
              "      <td>20</td>\n",
              "      <td>65</td>\n",
              "      <td>78</td>\n",
              "      <td>37</td>\n",
              "      <td>11</td>\n",
              "      <td>5628</td>\n",
              "      <td>1575</td>\n",
              "      <td>225</td>\n",
              "      <td>828</td>\n",
              "      <td>838</td>\n",
              "      <td>354</td>\n",
              "      <td>N</td>\n",
              "      <td>E</td>\n",
              "      <td>200</td>\n",
              "      <td>11</td>\n",
              "      <td>3</td>\n",
              "      <td>500.0</td>\n",
              "      <td>N</td>\n",
              "    </tr>\n",
              "    <tr>\n",
              "      <th>4</th>\n",
              "      <td>-Andres Galarraga</td>\n",
              "      <td>321</td>\n",
              "      <td>87</td>\n",
              "      <td>10</td>\n",
              "      <td>39</td>\n",
              "      <td>42</td>\n",
              "      <td>30</td>\n",
              "      <td>2</td>\n",
              "      <td>396</td>\n",
              "      <td>101</td>\n",
              "      <td>12</td>\n",
              "      <td>48</td>\n",
              "      <td>46</td>\n",
              "      <td>33</td>\n",
              "      <td>N</td>\n",
              "      <td>E</td>\n",
              "      <td>805</td>\n",
              "      <td>40</td>\n",
              "      <td>4</td>\n",
              "      <td>91.5</td>\n",
              "      <td>N</td>\n",
              "    </tr>\n",
              "  </tbody>\n",
              "</table>\n",
              "</div>"
            ],
            "text/plain": [
              "          Unnamed: 0  AtBat  Hits  HmRun  ...  Assists  Errors  Salary  NewLeague\n",
              "0     -Andy Allanson    293    66      1  ...       33      20     NaN          A\n",
              "1        -Alan Ashby    315    81      7  ...       43      10   475.0          N\n",
              "2       -Alvin Davis    479   130     18  ...       82      14   480.0          A\n",
              "3      -Andre Dawson    496   141     20  ...       11       3   500.0          N\n",
              "4  -Andres Galarraga    321    87     10  ...       40       4    91.5          N\n",
              "\n",
              "[5 rows x 21 columns]"
            ]
          },
          "metadata": {
            "tags": []
          },
          "execution_count": 2
        }
      ]
    },
    {
      "cell_type": "code",
      "metadata": {
        "id": "q-JaxQGqoOlZ",
        "colab_type": "code",
        "colab": {}
      },
      "source": [
        "# Clean the data a bit and pull out X and Y\n",
        "data = hitters.select_dtypes([np.number]).dropna()\n",
        "X = data.drop(\"Salary\", axis=1)\n",
        "y = data[\"Salary\"]\n",
        "alphas = np.logspace(-10, 9, 1000)"
      ],
      "execution_count": 3,
      "outputs": []
    },
    {
      "cell_type": "markdown",
      "metadata": {
        "id": "7LoPu0pIJ_K9",
        "colab_type": "text"
      },
      "source": [
        "### Lasso"
      ]
    },
    {
      "cell_type": "code",
      "metadata": {
        "id": "weOr116-kiRa",
        "colab_type": "code",
        "colab": {}
      },
      "source": [
        "def lasso_regression(X, y, alphas, plot = False):\n",
        "\n",
        "  weights = []\n",
        "  \n",
        "  # Run lasso regression for each value of alpha  \n",
        "  for alpha in alphas:\n",
        "    lasso = Lasso(alpha, normalize = True, max_iter=100000).fit(X, y)\n",
        "    weights.append(lasso.coef_)\n",
        "      \n",
        "  if plot == True:\n",
        "    # Plot alpha and weights\n",
        "    plt.semilogx(alphas, weights)\n",
        "    plt.xlabel('alpha')\n",
        "    plt.ylabel('weight')\n",
        "    plt.title('Lasso Coefficient Trajectories')\n",
        "\n"
      ],
      "execution_count": 4,
      "outputs": []
    },
    {
      "cell_type": "code",
      "metadata": {
        "id": "bEhNn55XlQ1B",
        "colab_type": "code",
        "colab": {
          "base_uri": "https://localhost:8080/",
          "height": 299
        },
        "outputId": "d26a1a94-16c0-4ce9-e265-495d54a096cf"
      },
      "source": [
        "lasso_model = lasso_regression(X, y, alphas, plot = True)"
      ],
      "execution_count": 5,
      "outputs": [
        {
          "output_type": "display_data",
          "data": {
            "image/png": "[encoded data removed]",
            "text/plain": [
              "<Figure size 432x288 with 1 Axes>"
            ]
          },
          "metadata": {
            "tags": [],
            "needs_background": "light"
          }
        }
      ]
    },
    {
      "cell_type": "code",
      "metadata": {
        "id": "UP8X1uQnEC6c",
        "colab_type": "code",
        "colab": {
          "base_uri": "https://localhost:8080/",
          "height": 306
        },
        "outputId": "66e75855-7116-4c2c-e6e1-d2073d6cfbe6"
      },
      "source": [
        "# Print the coef for the first model\n",
        "lasso_model = Lasso(alpha = 10, normalize = True, max_iter=100000).fit(X, y)\n",
        "print(pd.Series(lasso_model.coef_, index = X.columns))"
      ],
      "execution_count": 6,
      "outputs": [
        {
          "output_type": "stream",
          "text": [
            "AtBat      0.000000\n",
            "Hits       0.329475\n",
            "HmRun      0.000000\n",
            "Runs       0.000000\n",
            "RBI        0.000000\n",
            "Walks      0.000000\n",
            "Years      0.000000\n",
            "CAtBat     0.000000\n",
            "CHits      0.000000\n",
            "CHmRun     0.000000\n",
            "CRuns      0.076322\n",
            "CRBI       0.204475\n",
            "CWalks     0.000000\n",
            "PutOuts    0.000000\n",
            "Assists    0.000000\n",
            "Errors     0.000000\n",
            "dtype: float64\n"
          ],
          "name": "stdout"
        }
      ]
    },
    {
      "cell_type": "markdown",
      "metadata": {
        "id": "mqVPjr9HHbbU",
        "colab_type": "text"
      },
      "source": [
        "There are three left in the first model - Hits, CRuns, and CRBI"
      ]
    },
    {
      "cell_type": "code",
      "metadata": {
        "id": "TtVvC0kbDINT",
        "colab_type": "code",
        "colab": {
          "base_uri": "https://localhost:8080/",
          "height": 323
        },
        "outputId": "a07f96e7-c784-4eca-b2f6-1fddacfb5c2b"
      },
      "source": [
        "# Print the coef for the cv model\n",
        "lasso_cv = LassoCV(normalize = True, cv = 5, max_iter = 10000, random_state = 4).fit(X, y)\n",
        "print(pd.Series(lasso_cv.coef_, index = X.columns))\n",
        "print(lasso_cv.alpha_)"
      ],
      "execution_count": 7,
      "outputs": [
        {
          "output_type": "stream",
          "text": [
            "AtBat     -1.895082\n",
            "Hits       6.455555\n",
            "HmRun     -0.000000\n",
            "Runs      -0.000000\n",
            "RBI        0.349806\n",
            "Walks      5.053509\n",
            "Years     -9.587424\n",
            "CAtBat    -0.008710\n",
            "CHits      0.000000\n",
            "CHmRun     0.557524\n",
            "CRuns      0.789045\n",
            "CRBI       0.337133\n",
            "CWalks    -0.564136\n",
            "PutOuts    0.285458\n",
            "Assists    0.225658\n",
            "Errors    -2.039256\n",
            "dtype: float64\n",
            "0.13691039485958048\n"
          ],
          "name": "stdout"
        }
      ]
    },
    {
      "cell_type": "markdown",
      "metadata": {
        "id": "TUkYLkfsHoTv",
        "colab_type": "text"
      },
      "source": [
        "There are many more left in this model (13) and the optimal alpha is .14"
      ]
    },
    {
      "cell_type": "markdown",
      "metadata": {
        "id": "NyHtYh81J6Lz",
        "colab_type": "text"
      },
      "source": [
        "### Ridge"
      ]
    },
    {
      "cell_type": "code",
      "metadata": {
        "id": "dChnn7TIKTdm",
        "colab_type": "code",
        "colab": {}
      },
      "source": [
        "def ridge_regression(X, y, alphas, plot = False):\n",
        "\n",
        "  weights = []\n",
        "  \n",
        "  # Run lasso regression for each value of alpha  \n",
        "  for alpha in alphas:\n",
        "    ridge = Ridge(alpha, normalize = True, max_iter=100000).fit(X, y)\n",
        "    weights.append(ridge.coef_)\n",
        "      \n",
        "  if plot == True:\n",
        "    # Plot alpha and weights\n",
        "    plt.semilogx(alphas, weights)\n",
        "    plt.xlabel('alpha')\n",
        "    plt.ylabel('weight')\n",
        "    plt.title('Ridge Coefficient Trajectories')"
      ],
      "execution_count": 8,
      "outputs": []
    },
    {
      "cell_type": "code",
      "metadata": {
        "id": "ffYCJLz3Khl3",
        "colab_type": "code",
        "colab": {
          "base_uri": "https://localhost:8080/",
          "height": 299
        },
        "outputId": "c9c75841-270f-41a8-d4c2-3abd6ea5a960"
      },
      "source": [
        "ridge_model = ridge_regression(X, y, alphas, plot = True)"
      ],
      "execution_count": 9,
      "outputs": [
        {
          "output_type": "display_data",
          "data": {
            "image/png": "[encoded data removed]",
            "text/plain": [
              "<Figure size 432x288 with 1 Axes>"
            ]
          },
          "metadata": {
            "tags": [],
            "needs_background": "light"
          }
        }
      ]
    },
    {
      "cell_type": "code",
      "metadata": {
        "id": "8lA7qHdbKnSX",
        "colab_type": "code",
        "colab": {
          "base_uri": "https://localhost:8080/",
          "height": 306
        },
        "outputId": "085cc288-6ec1-4f11-bf28-6ae2bbab97a4"
      },
      "source": [
        "# Print the coef for the first model\n",
        "ridge_model = Ridge(alpha = 10, normalize = True, max_iter=100000).fit(X, y)\n",
        "print(pd.Series(ridge_model.coef_, index = X.columns))"
      ],
      "execution_count": 10,
      "outputs": [
        {
          "output_type": "stream",
          "text": [
            "AtBat      0.069921\n",
            "Hits       0.274156\n",
            "HmRun      0.951045\n",
            "Runs       0.449675\n",
            "RBI        0.457258\n",
            "Walks      0.572804\n",
            "Years      1.998412\n",
            "CAtBat     0.005877\n",
            "CHits      0.022242\n",
            "CHmRun     0.166005\n",
            "CRuns      0.044649\n",
            "CRBI       0.046078\n",
            "CWalks     0.046315\n",
            "PutOuts    0.035902\n",
            "Assists    0.005472\n",
            "Errors    -0.070350\n",
            "dtype: float64\n"
          ],
          "name": "stdout"
        }
      ]
    },
    {
      "cell_type": "markdown",
      "metadata": {
        "id": "92SfREs4L_Ea",
        "colab_type": "text"
      },
      "source": [
        "This model kept all of them in"
      ]
    },
    {
      "cell_type": "code",
      "metadata": {
        "id": "NXW81EmLK3rA",
        "colab_type": "code",
        "colab": {
          "base_uri": "https://localhost:8080/",
          "height": 323
        },
        "outputId": "b1272ca1-7e4e-4683-99fb-bdfc63b6ad95"
      },
      "source": [
        "# Print the coef for the cv model\n",
        "ridge_cv = RidgeCV(alphas = alphas, normalize = True, cv = 5).fit(X, y)\n",
        "print(pd.Series(ridge_cv.coef_, index = X.columns))\n",
        "print(ridge_cv.alpha_)"
      ],
      "execution_count": 15,
      "outputs": [
        {
          "output_type": "stream",
          "text": [
            "AtBat      0.086306\n",
            "Hits       0.807538\n",
            "HmRun      0.613337\n",
            "Runs       1.057258\n",
            "RBI        0.903847\n",
            "Walks      1.582974\n",
            "Years      1.806087\n",
            "CAtBat     0.011286\n",
            "CHits      0.054525\n",
            "CHmRun     0.379729\n",
            "CRuns      0.109894\n",
            "CRBI       0.113680\n",
            "CWalks     0.063907\n",
            "PutOuts    0.156612\n",
            "Assists    0.027426\n",
            "Errors    -1.104690\n",
            "dtype: float64\n",
            "0.8850074914473457\n"
          ],
          "name": "stdout"
        }
      ]
    },
    {
      "cell_type": "markdown",
      "metadata": {
        "id": "dLLOpx5uMCS3",
        "colab_type": "text"
      },
      "source": [
        "The cross validated model also kept all in and had an alpha of .89"
      ]
    },
    {
      "cell_type": "markdown",
      "metadata": {
        "id": "RtJuBGlwtn3f",
        "colab_type": "text"
      },
      "source": [
        "## Bias-Varaiance Tradeoff"
      ]
    },
    {
      "cell_type": "markdown",
      "metadata": {
        "id": "AZaIt60WMN4Z",
        "colab_type": "text"
      },
      "source": [
        "The bias varaince tradeoff is between alpha (the regularization penalty) which reduces bias and X which allows for varaince. When alpha is large it means that there is smaller bias but less X's survive meaning that we lose varaince (e.g. in the model with 9 weights > 0). When alpha is small we have more bias but we retain more X's (and/or their influence) meaning we have greater varaiance. "
      ]
    },
    {
      "cell_type": "code",
      "metadata": {
        "id": "BNx7zdnmNLzL",
        "colab_type": "code",
        "colab": {}
      },
      "source": [
        ""
      ],
      "execution_count": null,
      "outputs": []
    }
  ]
}